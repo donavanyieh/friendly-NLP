{
 "cells": [
  {
   "cell_type": "markdown",
   "id": "5f2a3c5f-fecd-4a44-b0cc-2c77d95f9135",
   "metadata": {},
   "source": [
    "# Import libraries"
   ]
  },
  {
   "cell_type": "code",
   "execution_count": 176,
   "id": "4e0fc85e-d6c7-4fc9-934e-a9ca98d0aec0",
   "metadata": {},
   "outputs": [],
   "source": [
    "import string\n",
    "import re\n",
    "import nltk\n",
    "import gensim\n",
    "from sklearn.feature_extraction.text import TfidfVectorizer\n",
    "\n",
    "try:\n",
    "    # If not present, download NLTK stopwords.\n",
    "    nltk.data.find(\"corpora/stopwords\")\n",
    "except LookupError:\n",
    "    nltk.download(\"stopwords\")\n",
    "\n",
    "from nltk.corpus import stopwords as nltk_en_stopwords\n",
    "nltk_stopwords = set(nltk_en_stopwords.words(\"english\"))"
   ]
  },
  {
   "cell_type": "code",
   "execution_count": 47,
   "id": "dd8b3fbe-dcf7-40f6-8559-72b24cc9c21d",
   "metadata": {},
   "outputs": [
    {
     "data": {
      "text/plain": [
       "'!\"#$%&\\'()*+,-./:;<=>?@[\\\\]^_`{|}~'"
      ]
     },
     "execution_count": 47,
     "metadata": {},
     "output_type": "execute_result"
    }
   ],
   "source": [
    "string.punctuation"
   ]
  },
  {
   "cell_type": "markdown",
   "id": "a3837e30-9b96-4f0b-ab49-0d96ced7be86",
   "metadata": {},
   "source": [
    "# Helper functions"
   ]
  },
  {
   "cell_type": "code",
   "execution_count": 203,
   "id": "bd5ec0af",
   "metadata": {},
   "outputs": [],
   "source": [
    "def remove_punctuations(s):\n",
    "    \"\"\"\n",
    "    Replace all punctuations with whitespace\n",
    "    Punctuations are exhaustive from string.punctuation library:\n",
    "    !\"#$%&\\'()*+,-./:;<=>?@[\\\\]^_`{|}~\n",
    "    \"\"\"\n",
    "    for character in string.punctuation:\n",
    "        s = s.replace(character, ' ')\n",
    "    return s\n",
    "\n",
    "\n",
    "def replace_digits(s):\n",
    "    \"\"\"\n",
    "    Replaces all digits with whitespace.\n",
    "    \"\"\"\n",
    "    return re.sub(\"^\\d+\\s|\\s\\d+\\s|\\s\\d+$\", \" \", s)\n",
    "\n",
    "def remove_urls(s):\n",
    "    \"\"\"\n",
    "    Replaces all URLs with whitespace\n",
    "    URLs: All text that starts with:\n",
    "    - http://\n",
    "    - https://\n",
    "    \"\"\"\n",
    "    return re.sub('http[s]?://\\S+', '', s)\n",
    "\n",
    "def remove_hashtags(s):\n",
    "    \"\"\"\n",
    "    Replaces all hashtags with whitespace\n",
    "    Hashtags are any words that starts with '#'\n",
    "    \"\"\"\n",
    "    return re.sub(\"#[A-Za-z0-9_]+\",\" \", s)\n",
    "\n",
    "def standardize_lowercase(s):\n",
    "    return s.lower()\n",
    "\n",
    "def remove_stopwords(s, sw=nltk_stopwords):\n",
    "    \"\"\"\n",
    "    Replaces all NLTK stopwords with whitespace \n",
    "    \"\"\"\n",
    "    pattern = re.compile(r'\\b(' + r'|'.join(set(sw)) + r')\\b\\s*')\n",
    "    s = pattern.sub(' ', s)\n",
    "    return s\n",
    "\n",
    "def remove_excess_whitespace(s):\n",
    "    \"\"\"\n",
    "    Ensure multiple whitespaces are converted to just one whitespace for text consistency\n",
    "    \"\"\"\n",
    "    return \" \".join(s.split()).strip()\n",
    "\n",
    "def get_default_pipeline():\n",
    "    return [remove_urls,\n",
    "        remove_punctuations,\n",
    "           replace_digits,\n",
    "           remove_hashtags,\n",
    "           standardize_lowercase,\n",
    "           remove_stopwords,\n",
    "           remove_excess_whitespace]\n",
    "\n",
    "def overall_clean(df, pipeline=None):\n",
    "    if not pipeline: # May allow future customization\n",
    "        pipeline = get_default_pipeline()\n",
    "    for task in pipeline:\n",
    "        df[\"text\"] = df[\"text\"].apply(task)\n",
    "    return df"
   ]
  },
  {
   "cell_type": "code",
   "execution_count": 218,
   "id": "2a033285",
   "metadata": {},
   "outputs": [
    {
     "data": {
      "text/html": [
       "<div>\n",
       "<style scoped>\n",
       "    .dataframe tbody tr th:only-of-type {\n",
       "        vertical-align: middle;\n",
       "    }\n",
       "\n",
       "    .dataframe tbody tr th {\n",
       "        vertical-align: top;\n",
       "    }\n",
       "\n",
       "    .dataframe thead th {\n",
       "        text-align: right;\n",
       "    }\n",
       "</style>\n",
       "<table border=\"1\" class=\"dataframe\">\n",
       "  <thead>\n",
       "    <tr style=\"text-align: right;\">\n",
       "      <th></th>\n",
       "      <th>text</th>\n",
       "    </tr>\n",
       "  </thead>\n",
       "  <tbody>\n",
       "    <tr>\n",
       "      <th>1</th>\n",
       "      <td>I initially had trouble deciding between the p...</td>\n",
       "    </tr>\n",
       "    <tr>\n",
       "      <th>2</th>\n",
       "      <td>Allow me to preface this with a little history...</td>\n",
       "    </tr>\n",
       "    <tr>\n",
       "      <th>3</th>\n",
       "      <td>I am enjoying it so far. Great for reading. Ha...</td>\n",
       "    </tr>\n",
       "    <tr>\n",
       "      <th>4</th>\n",
       "      <td>I bought one of the first Paperwhites and have...</td>\n",
       "    </tr>\n",
       "    <tr>\n",
       "      <th>5</th>\n",
       "      <td>I have to say upfront - I don't like coroporat...</td>\n",
       "    </tr>\n",
       "    <tr>\n",
       "      <th>...</th>\n",
       "      <td>...</td>\n",
       "    </tr>\n",
       "    <tr>\n",
       "      <th>1593</th>\n",
       "      <td>This is not the same remote that I got for my ...</td>\n",
       "    </tr>\n",
       "    <tr>\n",
       "      <th>1594</th>\n",
       "      <td>I have had to change the batteries in this rem...</td>\n",
       "    </tr>\n",
       "    <tr>\n",
       "      <th>1595</th>\n",
       "      <td>Remote did not activate, nor did it connect to...</td>\n",
       "    </tr>\n",
       "    <tr>\n",
       "      <th>1596</th>\n",
       "      <td>It does the job but is super over priced. I fe...</td>\n",
       "    </tr>\n",
       "    <tr>\n",
       "      <th>1597</th>\n",
       "      <td>I ordered this item to replace the one that no...</td>\n",
       "    </tr>\n",
       "  </tbody>\n",
       "</table>\n",
       "<p>1597 rows × 1 columns</p>\n",
       "</div>"
      ],
      "text/plain": [
       "                                                   text\n",
       "1     I initially had trouble deciding between the p...\n",
       "2     Allow me to preface this with a little history...\n",
       "3     I am enjoying it so far. Great for reading. Ha...\n",
       "4     I bought one of the first Paperwhites and have...\n",
       "5     I have to say upfront - I don't like coroporat...\n",
       "...                                                 ...\n",
       "1593  This is not the same remote that I got for my ...\n",
       "1594  I have had to change the batteries in this rem...\n",
       "1595  Remote did not activate, nor did it connect to...\n",
       "1596  It does the job but is super over priced. I fe...\n",
       "1597  I ordered this item to replace the one that no...\n",
       "\n",
       "[1597 rows x 1 columns]"
      ]
     },
     "execution_count": 218,
     "metadata": {},
     "output_type": "execute_result"
    }
   ],
   "source": [
    "df = pd.read_csv(\"../dataset/amazon_product.csv\", header=None, encoding=\"unicode-escape\").iloc[1:,:].rename(columns={0:\"text\"})\n",
    "df"
   ]
  },
  {
   "cell_type": "code",
   "execution_count": 219,
   "id": "fa037493-8cf3-413b-b741-811d00d5649f",
   "metadata": {},
   "outputs": [
    {
     "name": "stdout",
     "output_type": "stream",
     "text": [
      "CPU times: total: 891 ms\n",
      "Wall time: 868 ms\n"
     ]
    },
    {
     "data": {
      "text/html": [
       "<div>\n",
       "<style scoped>\n",
       "    .dataframe tbody tr th:only-of-type {\n",
       "        vertical-align: middle;\n",
       "    }\n",
       "\n",
       "    .dataframe tbody tr th {\n",
       "        vertical-align: top;\n",
       "    }\n",
       "\n",
       "    .dataframe thead th {\n",
       "        text-align: right;\n",
       "    }\n",
       "</style>\n",
       "<table border=\"1\" class=\"dataframe\">\n",
       "  <thead>\n",
       "    <tr style=\"text-align: right;\">\n",
       "      <th></th>\n",
       "      <th>text</th>\n",
       "    </tr>\n",
       "  </thead>\n",
       "  <tbody>\n",
       "    <tr>\n",
       "      <th>1</th>\n",
       "      <td>initially trouble deciding paperwhite voyage r...</td>\n",
       "    </tr>\n",
       "    <tr>\n",
       "      <th>2</th>\n",
       "      <td>allow preface little history casual reader own...</td>\n",
       "    </tr>\n",
       "    <tr>\n",
       "      <th>3</th>\n",
       "      <td>enjoying far great reading original fire since...</td>\n",
       "    </tr>\n",
       "    <tr>\n",
       "      <th>4</th>\n",
       "      <td>bought one first paperwhites pleased constant ...</td>\n",
       "    </tr>\n",
       "    <tr>\n",
       "      <th>5</th>\n",
       "      <td>say upfront like coroporate hermetically close...</td>\n",
       "    </tr>\n",
       "    <tr>\n",
       "      <th>...</th>\n",
       "      <td>...</td>\n",
       "    </tr>\n",
       "    <tr>\n",
       "      <th>1593</th>\n",
       "      <td>remote got alexa echo control volume think rem...</td>\n",
       "    </tr>\n",
       "    <tr>\n",
       "      <th>1594</th>\n",
       "      <td>change batteries remote twice per month since ...</td>\n",
       "    </tr>\n",
       "    <tr>\n",
       "      <th>1595</th>\n",
       "      <td>remote activate connect box poorly designed re...</td>\n",
       "    </tr>\n",
       "    <tr>\n",
       "      <th>1596</th>\n",
       "      <td>job super priced feel like offer replacement r...</td>\n",
       "    </tr>\n",
       "    <tr>\n",
       "      <th>1597</th>\n",
       "      <td>ordered item replace one longer works directio...</td>\n",
       "    </tr>\n",
       "  </tbody>\n",
       "</table>\n",
       "<p>1597 rows × 1 columns</p>\n",
       "</div>"
      ],
      "text/plain": [
       "                                                   text\n",
       "1     initially trouble deciding paperwhite voyage r...\n",
       "2     allow preface little history casual reader own...\n",
       "3     enjoying far great reading original fire since...\n",
       "4     bought one first paperwhites pleased constant ...\n",
       "5     say upfront like coroporate hermetically close...\n",
       "...                                                 ...\n",
       "1593  remote got alexa echo control volume think rem...\n",
       "1594  change batteries remote twice per month since ...\n",
       "1595  remote activate connect box poorly designed re...\n",
       "1596  job super priced feel like offer replacement r...\n",
       "1597  ordered item replace one longer works directio...\n",
       "\n",
       "[1597 rows x 1 columns]"
      ]
     },
     "execution_count": 219,
     "metadata": {},
     "output_type": "execute_result"
    }
   ],
   "source": [
    "%%time\n",
    "df = overall_clean(df)\n",
    "df"
   ]
  },
  {
   "cell_type": "code",
   "execution_count": 220,
   "id": "02d40aa6",
   "metadata": {},
   "outputs": [],
   "source": [
    "def remove_punctuation(text):\n",
    "    for tok in string.punctuation:\n",
    "        text = text.replace(tok, \" \")\n",
    "    return text\n",
    "\n",
    "def remove_digits(text):\n",
    "    for tok in \"1234567890\":\n",
    "        text = text.replace(tok, \" \")\n",
    "    return text\n",
    "\n",
    "def remove_whitespace(text):\n",
    "    return \" \".join(text.split())\n",
    "\n",
    "def remove_stopwords(text):\n",
    "    text_tokens = word_tokenize(text)\n",
    "    filtered_sentence = [w for w in text_tokens if not w in stop_words]\n",
    "    return \" \".join(filtered_sentence)"
   ]
  },
  {
   "cell_type": "code",
   "execution_count": 221,
   "id": "08b6b708-364b-479e-8ab1-bb0ec461128d",
   "metadata": {},
   "outputs": [
    {
     "ename": "NameError",
     "evalue": "name 'remove_pun' is not defined",
     "output_type": "error",
     "traceback": [
      "\u001b[1;31m---------------------------------------------------------------------------\u001b[0m",
      "\u001b[1;31mNameError\u001b[0m                                 Traceback (most recent call last)",
      "Input \u001b[1;32mIn [221]\u001b[0m, in \u001b[0;36m<cell line: 1>\u001b[1;34m()\u001b[0m\n\u001b[1;32m----> 1\u001b[0m \u001b[43mremove_pun\u001b[49m\n",
      "\u001b[1;31mNameError\u001b[0m: name 'remove_pun' is not defined"
     ]
    }
   ],
   "source": [
    "remove_pun"
   ]
  },
  {
   "cell_type": "code",
   "execution_count": 222,
   "id": "b9809ca0",
   "metadata": {},
   "outputs": [
    {
     "ename": "NameError",
     "evalue": "name 'clean_for_contextual' is not defined",
     "output_type": "error",
     "traceback": [
      "\u001b[1;31m---------------------------------------------------------------------------\u001b[0m",
      "\u001b[1;31mNameError\u001b[0m                                 Traceback (most recent call last)",
      "Input \u001b[1;32mIn [222]\u001b[0m, in \u001b[0;36m<cell line: 1>\u001b[1;34m()\u001b[0m\n\u001b[1;32m----> 1\u001b[0m text_for_contextual \u001b[38;5;241m=\u001b[39m \u001b[43mclean_for_contextual\u001b[49m(df)[df\u001b[38;5;241m.\u001b[39mcolumns[\u001b[38;5;241m0\u001b[39m]]\u001b[38;5;241m.\u001b[39mto_list()\n\u001b[0;32m      2\u001b[0m text_for_bow \u001b[38;5;241m=\u001b[39m clean_for_bow(df)[df\u001b[38;5;241m.\u001b[39mcolumns[\u001b[38;5;241m0\u001b[39m]]\u001b[38;5;241m.\u001b[39mto_list()\n",
      "\u001b[1;31mNameError\u001b[0m: name 'clean_for_contextual' is not defined"
     ]
    }
   ],
   "source": [
    "text_for_contextual = clean_for_contextual(df)[df.columns[0]].to_list()\n",
    "text_for_bow = clean_for_bow(df)[df.columns[0]].to_list()"
   ]
  },
  {
   "cell_type": "markdown",
   "id": "9beeedf7",
   "metadata": {},
   "source": [
    "# Topic modelling - GSDMM\n",
    "1) Explore means of short text TM\n",
    "2) Get overall topic docs and distribution\n",
    "3) Get each text topic"
   ]
  },
  {
   "cell_type": "code",
   "execution_count": 223,
   "id": "e32646b9-d6b6-440b-a7db-236c29733635",
   "metadata": {},
   "outputs": [
    {
     "data": {
      "text/plain": [
       "array([['initially trouble deciding paperwhite voyage reviews less said thing paperwhite great spending money go voyage fortunately friends owned ended buying paperwhite basis models ppi dollar jump turns pricey voyage page press always sensitive fine specific setting need auto light adjustment week loving paperwhite regrets touch screen receptive easy use keep light specific setting regardless time day case hard change setting either changing light level certain time day every reading also glad went international shipping option amazon extra expense delivery time tracking didnt need worry customs may used third party shipping service'],\n",
       "       ['allow preface little history casual reader owned nook simple touch read harry potter series girl dragon tattoo series brave new world key titles fair say nook get much use many others may gotten fast forward today full week new kindle paperwhite admit love kindle reading let relate review love reading back kindle investment 00 experience receive buy kindle simply paying screen entire experience included buying amazon reading hunger games trilogy shall moving onto divergent series soon thing nook hindered past years never inspired pick get hands dive never feeling oh man reading thing awesome however paperwhite feeling desire back simply adore kindle considering purchasing one stop thinking simply go full week downloaded books ton reading still half battery left well make happy inspire reader inside'],\n",
       "       ['enjoying far great reading original fire since fire used make eyes hurt read long experienced paperwhite yet'],\n",
       "       ...,\n",
       "       ['remote activate connect box poorly designed remote replacing even worse remote waste time ordered two items pay shipping shipped padded envelope double shipping charges'],\n",
       "       ['job super priced feel like offer replacement remote better price could spent gotten stick think ridiculous spend remote product fine unhappy price'],\n",
       "       ['ordered item replace one longer works directions new remove state press home button go home screen using existing remote work must use existing remote following steps existing remote work bought new one sending crap back amazon canceling fire subscription problem day one months worth money']],\n",
       "      dtype=object)"
      ]
     },
     "execution_count": 223,
     "metadata": {},
     "output_type": "execute_result"
    }
   ],
   "source": [
    "docs = df.to_numpy()\n",
    "docs"
   ]
  },
  {
   "cell_type": "code",
   "execution_count": 224,
   "id": "7a7b8775",
   "metadata": {},
   "outputs": [
    {
     "name": "stdout",
     "output_type": "stream",
     "text": [
      "In stage 0: transferred 1368 clusters with 8 clusters populated\n",
      "In stage 1: transferred 1289 clusters with 8 clusters populated\n",
      "In stage 2: transferred 1215 clusters with 8 clusters populated\n",
      "In stage 3: transferred 1133 clusters with 8 clusters populated\n",
      "In stage 4: transferred 1000 clusters with 8 clusters populated\n",
      "In stage 5: transferred 962 clusters with 8 clusters populated\n",
      "In stage 6: transferred 845 clusters with 8 clusters populated\n",
      "In stage 7: transferred 874 clusters with 8 clusters populated\n",
      "In stage 8: transferred 860 clusters with 8 clusters populated\n",
      "In stage 9: transferred 848 clusters with 8 clusters populated\n",
      "In stage 10: transferred 843 clusters with 8 clusters populated\n",
      "In stage 11: transferred 844 clusters with 8 clusters populated\n",
      "In stage 12: transferred 830 clusters with 8 clusters populated\n",
      "In stage 13: transferred 854 clusters with 8 clusters populated\n",
      "In stage 14: transferred 827 clusters with 8 clusters populated\n",
      "In stage 15: transferred 789 clusters with 8 clusters populated\n",
      "In stage 16: transferred 789 clusters with 8 clusters populated\n",
      "In stage 17: transferred 785 clusters with 8 clusters populated\n",
      "In stage 18: transferred 774 clusters with 8 clusters populated\n",
      "In stage 19: transferred 776 clusters with 8 clusters populated\n",
      "In stage 20: transferred 801 clusters with 8 clusters populated\n",
      "In stage 21: transferred 787 clusters with 8 clusters populated\n",
      "In stage 22: transferred 833 clusters with 8 clusters populated\n",
      "In stage 23: transferred 840 clusters with 7 clusters populated\n",
      "In stage 24: transferred 838 clusters with 7 clusters populated\n",
      "In stage 25: transferred 821 clusters with 7 clusters populated\n",
      "In stage 26: transferred 807 clusters with 7 clusters populated\n",
      "In stage 27: transferred 751 clusters with 7 clusters populated\n",
      "In stage 28: transferred 748 clusters with 6 clusters populated\n",
      "In stage 29: transferred 741 clusters with 6 clusters populated\n",
      "In stage 30: transferred 756 clusters with 6 clusters populated\n",
      "In stage 31: transferred 757 clusters with 6 clusters populated\n",
      "In stage 32: transferred 767 clusters with 6 clusters populated\n",
      "In stage 33: transferred 774 clusters with 7 clusters populated\n",
      "In stage 34: transferred 796 clusters with 7 clusters populated\n",
      "In stage 35: transferred 833 clusters with 7 clusters populated\n",
      "In stage 36: transferred 804 clusters with 7 clusters populated\n",
      "In stage 37: transferred 770 clusters with 6 clusters populated\n",
      "In stage 38: transferred 760 clusters with 6 clusters populated\n",
      "In stage 39: transferred 753 clusters with 6 clusters populated\n",
      "In stage 40: transferred 751 clusters with 6 clusters populated\n",
      "In stage 41: transferred 739 clusters with 6 clusters populated\n",
      "In stage 42: transferred 729 clusters with 6 clusters populated\n",
      "In stage 43: transferred 752 clusters with 8 clusters populated\n",
      "In stage 44: transferred 748 clusters with 8 clusters populated\n",
      "In stage 45: transferred 737 clusters with 7 clusters populated\n",
      "In stage 46: transferred 787 clusters with 7 clusters populated\n",
      "In stage 47: transferred 748 clusters with 7 clusters populated\n",
      "In stage 48: transferred 767 clusters with 7 clusters populated\n",
      "In stage 49: transferred 747 clusters with 7 clusters populated\n"
     ]
    }
   ],
   "source": [
    "from gsdmm import MovieGroupProcess\n",
    "\n",
    "# GSDMM only requires num of unique words and numpy array of text series\n",
    "docs = df.to_numpy()\n",
    "vocab = set(\" \".join(df.text.to_list()).split())\n",
    "\n",
    "# Declare GSDMM object where K: number of topcs\n",
    "gsdmm = MovieGroupProcess(n_iters=50)\n",
    "\n",
    "# Fit GSDMM model\n",
    "y = gsdmm.fit(docs, len(vocab))"
   ]
  },
  {
   "cell_type": "code",
   "execution_count": 225,
   "id": "2c2c3694-ae55-4364-8d81-b9f1f3fd6032",
   "metadata": {},
   "outputs": [
    {
     "data": {
      "text/html": [
       "<div>\n",
       "<style scoped>\n",
       "    .dataframe tbody tr th:only-of-type {\n",
       "        vertical-align: middle;\n",
       "    }\n",
       "\n",
       "    .dataframe tbody tr th {\n",
       "        vertical-align: top;\n",
       "    }\n",
       "\n",
       "    .dataframe thead th {\n",
       "        text-align: right;\n",
       "    }\n",
       "</style>\n",
       "<table border=\"1\" class=\"dataframe\">\n",
       "  <thead>\n",
       "    <tr style=\"text-align: right;\">\n",
       "      <th></th>\n",
       "      <th>text</th>\n",
       "      <th>cluster</th>\n",
       "    </tr>\n",
       "  </thead>\n",
       "  <tbody>\n",
       "    <tr>\n",
       "      <th>1</th>\n",
       "      <td>initially trouble deciding paperwhite voyage r...</td>\n",
       "      <td>6</td>\n",
       "    </tr>\n",
       "    <tr>\n",
       "      <th>2</th>\n",
       "      <td>allow preface little history casual reader own...</td>\n",
       "      <td>6</td>\n",
       "    </tr>\n",
       "    <tr>\n",
       "      <th>3</th>\n",
       "      <td>enjoying far great reading original fire since...</td>\n",
       "      <td>6</td>\n",
       "    </tr>\n",
       "    <tr>\n",
       "      <th>4</th>\n",
       "      <td>bought one first paperwhites pleased constant ...</td>\n",
       "      <td>5</td>\n",
       "    </tr>\n",
       "    <tr>\n",
       "      <th>5</th>\n",
       "      <td>say upfront like coroporate hermetically close...</td>\n",
       "      <td>6</td>\n",
       "    </tr>\n",
       "    <tr>\n",
       "      <th>...</th>\n",
       "      <td>...</td>\n",
       "      <td>...</td>\n",
       "    </tr>\n",
       "    <tr>\n",
       "      <th>1593</th>\n",
       "      <td>remote got alexa echo control volume think rem...</td>\n",
       "      <td>5</td>\n",
       "    </tr>\n",
       "    <tr>\n",
       "      <th>1594</th>\n",
       "      <td>change batteries remote twice per month since ...</td>\n",
       "      <td>6</td>\n",
       "    </tr>\n",
       "    <tr>\n",
       "      <th>1595</th>\n",
       "      <td>remote activate connect box poorly designed re...</td>\n",
       "      <td>5</td>\n",
       "    </tr>\n",
       "    <tr>\n",
       "      <th>1596</th>\n",
       "      <td>job super priced feel like offer replacement r...</td>\n",
       "      <td>3</td>\n",
       "    </tr>\n",
       "    <tr>\n",
       "      <th>1597</th>\n",
       "      <td>ordered item replace one longer works directio...</td>\n",
       "      <td>6</td>\n",
       "    </tr>\n",
       "  </tbody>\n",
       "</table>\n",
       "<p>1597 rows × 2 columns</p>\n",
       "</div>"
      ],
      "text/plain": [
       "                                                   text  cluster\n",
       "1     initially trouble deciding paperwhite voyage r...        6\n",
       "2     allow preface little history casual reader own...        6\n",
       "3     enjoying far great reading original fire since...        6\n",
       "4     bought one first paperwhites pleased constant ...        5\n",
       "5     say upfront like coroporate hermetically close...        6\n",
       "...                                                 ...      ...\n",
       "1593  remote got alexa echo control volume think rem...        5\n",
       "1594  change batteries remote twice per month since ...        6\n",
       "1595  remote activate connect box poorly designed re...        5\n",
       "1596  job super priced feel like offer replacement r...        3\n",
       "1597  ordered item replace one longer works directio...        6\n",
       "\n",
       "[1597 rows x 2 columns]"
      ]
     },
     "execution_count": 225,
     "metadata": {},
     "output_type": "execute_result"
    }
   ],
   "source": [
    "# Assigning cluster\n",
    "df[\"cluster\"] = y\n",
    "df"
   ]
  },
  {
   "cell_type": "code",
   "execution_count": 226,
   "id": "c65ba272-5108-406d-a5f3-6fc0936bad4b",
   "metadata": {},
   "outputs": [
    {
     "name": "stdout",
     "output_type": "stream",
     "text": [
      "Number of documents per topic : [122  32  25  97   0 316 886 119]\n",
      "Most important clusters (by number of docs inside): [6 5 0 7 3 1 2 4]\n"
     ]
    }
   ],
   "source": [
    "# print number of documents per topic\n",
    "doc_count = np.array(gsdmm.cluster_doc_count)\n",
    "print('Number of documents per topic :', doc_count)\n",
    "\n",
    "# Topics sorted by the number of document they are allocated to\n",
    "top_index = doc_count.argsort()[:][::-1]\n",
    "print('Most important clusters (by number of docs inside):', top_index)"
   ]
  },
  {
   "cell_type": "code",
   "execution_count": 227,
   "id": "1f8919d9-b0e3-4125-8767-15e0bf7bc44d",
   "metadata": {},
   "outputs": [],
   "source": [
    "# Get c-TF-IDF\n",
    "\n",
    "# Treat all documents in one cluster as one text\n",
    "class_text = []\n",
    "for i in range(len(doc_count)):\n",
    "    class_text.append(\" \".join(df[df[\"cluster\"]==i][\"text\"].to_list()))\n",
    "\n",
    "# Use sklearn's TF-IDF wrapper\n",
    "tfidf_vectorizer = TfidfVectorizer()\n",
    "c_tfidf = tfidf_vectorizer.fit_transform(raw_documents=class_text)\n",
    "\n",
    "# Get highest weighted word per cluster\n",
    "index_value={i[1]:i[0] for i in tfidf_vectorizer.vocabulary_.items()}\n",
    "weighted_words = {}\n",
    "for cluster ,row in enumerate(c_tfidf):\n",
    "    words_weight_dict = {index_value[column]:value for (column,value) in zip(row.indices,row.data)}\n",
    "    words_weight_dict = {k: v for k, v in sorted(words_weight_dict.items(), key=lambda item: item[1], reverse=True)}\n",
    "    top10words = {k: words_weight_dict[k] for k in list(words_weight_dict)[:10]}\n",
    "    weighted_words[cluster] = top10words"
   ]
  },
  {
   "cell_type": "code",
   "execution_count": 228,
   "id": "aabd6d6a-9ddf-44b1-beaf-f7e5a0ec18db",
   "metadata": {},
   "outputs": [
    {
     "data": {
      "text/plain": [
       "{0: {'amazon': 0.2741696389680442,\n",
       "  'roku': 0.20461479797870435,\n",
       "  'tv': 0.19705942800828177,\n",
       "  'device': 0.19134756052978083,\n",
       "  'box': 0.19032092987446605,\n",
       "  'like': 0.17706789183352856,\n",
       "  'fire': 0.17135602435502761,\n",
       "  'kindle': 0.15993228939802578,\n",
       "  'use': 0.1513644881802744,\n",
       "  'great': 0.14565262070177348},\n",
       " 1: {'kindle': 0.21472682023073322,\n",
       "  'great': 0.21472682023073322,\n",
       "  'echo': 0.20279755244013695,\n",
       "  'remote': 0.20031523688898514,\n",
       "  'amazon': 0.19086828464954064,\n",
       "  'prime': 0.19086828464954064,\n",
       "  'use': 0.17893901685894434,\n",
       "  'voice': 0.16700974906834806,\n",
       "  'one': 0.14315121348715548,\n",
       "  'button': 0.13122194569655918},\n",
       " 2: {'fire': 0.402928912262418,\n",
       "  'hd': 0.22774242867006236,\n",
       "  'model': 0.201464456131209,\n",
       "  'year': 0.19270513195159122,\n",
       "  'amazon': 0.19270513195159122,\n",
       "  'one': 0.1664271594127379,\n",
       "  'great': 0.1489085110535023,\n",
       "  'kindle': 0.14014918687388453,\n",
       "  'screen': 0.12263053851464895,\n",
       "  'well': 0.12263053851464895},\n",
       " 3: {'fire': 0.3245397969338852,\n",
       "  'kindle': 0.2643159170904838,\n",
       "  'amazon': 0.2643159170904838,\n",
       "  'use': 0.1840174106326153,\n",
       "  'one': 0.15390547071091462,\n",
       "  'like': 0.15055969960850343,\n",
       "  'screen': 0.14721392850609225,\n",
       "  'read': 0.14052238630126987,\n",
       "  'hd': 0.13717661519885868,\n",
       "  'love': 0.13717661519885868},\n",
       " 4: {},\n",
       " 5: {'headphones': 0.2846340899509308,\n",
       "  'ears': 0.26502561243217604,\n",
       "  'earbuds': 0.26502561243217604,\n",
       "  'magnets': 0.22869535845959543,\n",
       "  'like': 0.19831327014298472,\n",
       "  'kindle': 0.17558987460576772,\n",
       "  'sound': 0.159063768760519,\n",
       "  'tangle': 0.1590153674593056,\n",
       "  'amazon': 0.15768659327341492,\n",
       "  'fire': 0.13565178547974996},\n",
       " 6: {'kindle': 0.23514727494791654,\n",
       "  'amazon': 0.22665074255233753,\n",
       "  'fire': 0.20736131765426624,\n",
       "  'like': 0.1791160883392333,\n",
       "  'headphones': 0.16701081316336483,\n",
       "  'read': 0.14604850279968254,\n",
       "  'prime': 0.1449003227462259,\n",
       "  'use': 0.13847051444686884,\n",
       "  'one': 0.13204070614751173,\n",
       "  'tv': 0.1306628900833638},\n",
       " 7: {'great': 0.2325804262273787,\n",
       "  'kindle': 0.22910907658219393,\n",
       "  'amazon': 0.22216637729182445,\n",
       "  'fire': 0.21869502764663967,\n",
       "  'one': 0.19786692977553114,\n",
       "  'like': 0.18051018154960738,\n",
       "  'use': 0.1631534333236836,\n",
       "  'screen': 0.15621073403331406,\n",
       "  'good': 0.1527393843881293,\n",
       "  'device': 0.13885398580739028}}"
      ]
     },
     "execution_count": 228,
     "metadata": {},
     "output_type": "execute_result"
    }
   ],
   "source": [
    "weighted_words"
   ]
  },
  {
   "cell_type": "markdown",
   "id": "11ba123e-003c-4b0c-bbbf-7436fd90b4b5",
   "metadata": {},
   "source": [
    "# Topic Modelling - NMF"
   ]
  },
  {
   "cell_type": "code",
   "execution_count": null,
   "id": "cf7f9a00-f39b-4141-9458-e1306ef2cd3e",
   "metadata": {},
   "outputs": [],
   "source": []
  },
  {
   "cell_type": "code",
   "execution_count": null,
   "id": "c24bf5f9-c414-4c08-adad-08c101710be9",
   "metadata": {},
   "outputs": [],
   "source": []
  },
  {
   "cell_type": "code",
   "execution_count": null,
   "id": "0efe4b78-e84b-47d9-85f3-181d55097d7d",
   "metadata": {},
   "outputs": [],
   "source": []
  },
  {
   "cell_type": "code",
   "execution_count": null,
   "id": "97d685df-352b-4ada-8d8b-128d89d70b1f",
   "metadata": {},
   "outputs": [],
   "source": []
  },
  {
   "cell_type": "code",
   "execution_count": null,
   "id": "23c820dc-d642-43bb-9a22-949d64cea3f6",
   "metadata": {},
   "outputs": [],
   "source": []
  },
  {
   "cell_type": "code",
   "execution_count": null,
   "id": "59f4eaf3-b523-497b-a6b9-f831c867fca0",
   "metadata": {},
   "outputs": [],
   "source": []
  },
  {
   "cell_type": "code",
   "execution_count": null,
   "id": "9249ea92-e040-416e-9a18-60d0f76059ff",
   "metadata": {},
   "outputs": [],
   "source": []
  },
  {
   "cell_type": "markdown",
   "id": "0d7d6463-67c2-44da-8dfe-513932e7dfd0",
   "metadata": {},
   "source": [
    "# Sentiment analysis\n",
    "1) Get sentiment distribution\n",
    "2) Get sentiment over topics\n",
    "3) Visualization"
   ]
  },
  {
   "cell_type": "code",
   "execution_count": 33,
   "id": "429407ac-90c3-4754-bb18-a6379f299dc5",
   "metadata": {},
   "outputs": [
    {
     "data": {
      "text/html": [
       "<div>\n",
       "<style scoped>\n",
       "    .dataframe tbody tr th:only-of-type {\n",
       "        vertical-align: middle;\n",
       "    }\n",
       "\n",
       "    .dataframe tbody tr th {\n",
       "        vertical-align: top;\n",
       "    }\n",
       "\n",
       "    .dataframe thead th {\n",
       "        text-align: right;\n",
       "    }\n",
       "</style>\n",
       "<table border=\"1\" class=\"dataframe\">\n",
       "  <thead>\n",
       "    <tr style=\"text-align: right;\">\n",
       "      <th></th>\n",
       "      <th>0</th>\n",
       "    </tr>\n",
       "  </thead>\n",
       "  <tbody>\n",
       "    <tr>\n",
       "      <th>1</th>\n",
       "      <td>This tremendous 100% varietal wine hails from ...</td>\n",
       "    </tr>\n",
       "    <tr>\n",
       "      <th>2</th>\n",
       "      <td>Ripe aromas of fig, blackberry and cassis are ...</td>\n",
       "    </tr>\n",
       "    <tr>\n",
       "      <th>3</th>\n",
       "      <td>Mac Watson honors the memory of a wine once ma...</td>\n",
       "    </tr>\n",
       "    <tr>\n",
       "      <th>4</th>\n",
       "      <td>This spent 20 months in 30% new French oak, an...</td>\n",
       "    </tr>\n",
       "    <tr>\n",
       "      <th>5</th>\n",
       "      <td>This is the top wine from La Bégude, named aft...</td>\n",
       "    </tr>\n",
       "    <tr>\n",
       "      <th>...</th>\n",
       "      <td>...</td>\n",
       "    </tr>\n",
       "    <tr>\n",
       "      <th>4996</th>\n",
       "      <td>This easy-drinking, value-minded wine offers n...</td>\n",
       "    </tr>\n",
       "    <tr>\n",
       "      <th>4997</th>\n",
       "      <td>Peach and powdered sugar aromas are first up, ...</td>\n",
       "    </tr>\n",
       "    <tr>\n",
       "      <th>4998</th>\n",
       "      <td>Simple cherry and plum aromas lead to a modest...</td>\n",
       "    </tr>\n",
       "    <tr>\n",
       "      <th>4999</th>\n",
       "      <td>This 100% varietal wine is lightly aromatic wi...</td>\n",
       "    </tr>\n",
       "    <tr>\n",
       "      <th>5000</th>\n",
       "      <td>This wine offers intriguing notes of peach, ma...</td>\n",
       "    </tr>\n",
       "  </tbody>\n",
       "</table>\n",
       "<p>5000 rows × 1 columns</p>\n",
       "</div>"
      ],
      "text/plain": [
       "                                                      0\n",
       "1     This tremendous 100% varietal wine hails from ...\n",
       "2     Ripe aromas of fig, blackberry and cassis are ...\n",
       "3     Mac Watson honors the memory of a wine once ma...\n",
       "4     This spent 20 months in 30% new French oak, an...\n",
       "5     This is the top wine from La Bégude, named aft...\n",
       "...                                                 ...\n",
       "4996  This easy-drinking, value-minded wine offers n...\n",
       "4997  Peach and powdered sugar aromas are first up, ...\n",
       "4998  Simple cherry and plum aromas lead to a modest...\n",
       "4999  This 100% varietal wine is lightly aromatic wi...\n",
       "5000  This wine offers intriguing notes of peach, ma...\n",
       "\n",
       "[5000 rows x 1 columns]"
      ]
     },
     "execution_count": 33,
     "metadata": {},
     "output_type": "execute_result"
    }
   ],
   "source": [
    "df"
   ]
  },
  {
   "cell_type": "markdown",
   "id": "11593b61-39bc-4640-a3da-3962c16eeecf",
   "metadata": {},
   "source": [
    "# Aspect Based Sentiment Analysis\n",
    "1) Get visualization"
   ]
  },
  {
   "cell_type": "markdown",
   "id": "697d37d8-c2f2-46a5-a4a8-de976ee22344",
   "metadata": {},
   "source": [
    "# Keyphrase Extraction\n",
    "1) Per sentiment\n",
    "2) Per cluster"
   ]
  },
  {
   "cell_type": "code",
   "execution_count": null,
   "id": "52699fa2-e991-484c-b750-f0edcd83070d",
   "metadata": {},
   "outputs": [],
   "source": []
  },
  {
   "cell_type": "markdown",
   "id": "b3c7b24c-2449-4896-ad73-70f92a6debf2",
   "metadata": {},
   "source": [
    "# Most representative text\n",
    "1. Textrank -> per sentiment"
   ]
  },
  {
   "cell_type": "code",
   "execution_count": null,
   "id": "11237558-faea-4842-aaa5-ed74d9b219a3",
   "metadata": {},
   "outputs": [],
   "source": []
  },
  {
   "cell_type": "code",
   "execution_count": null,
   "id": "3dc1713a-31f8-4c49-bd09-5adf6c6e8641",
   "metadata": {},
   "outputs": [],
   "source": []
  }
 ],
 "metadata": {
  "kernelspec": {
   "display_name": "Python 3 (ipykernel)",
   "language": "python",
   "name": "python3"
  },
  "language_info": {
   "codemirror_mode": {
    "name": "ipython",
    "version": 3
   },
   "file_extension": ".py",
   "mimetype": "text/x-python",
   "name": "python",
   "nbconvert_exporter": "python",
   "pygments_lexer": "ipython3",
   "version": "3.10.4"
  }
 },
 "nbformat": 4,
 "nbformat_minor": 5
}
